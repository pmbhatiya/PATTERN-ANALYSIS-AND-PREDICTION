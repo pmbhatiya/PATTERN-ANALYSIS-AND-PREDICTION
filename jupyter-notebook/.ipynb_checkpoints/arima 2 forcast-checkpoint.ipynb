{
 "cells": [
  {
   "cell_type": "code",
   "execution_count": 4,
   "metadata": {},
   "outputs": [
    {
     "data": {
      "text/html": [
       "<div>\n",
       "<style scoped>\n",
       "    .dataframe tbody tr th:only-of-type {\n",
       "        vertical-align: middle;\n",
       "    }\n",
       "\n",
       "    .dataframe tbody tr th {\n",
       "        vertical-align: top;\n",
       "    }\n",
       "\n",
       "    .dataframe thead th {\n",
       "        text-align: right;\n",
       "    }\n",
       "</style>\n",
       "<table border=\"1\" class=\"dataframe\">\n",
       "  <thead>\n",
       "    <tr style=\"text-align: right;\">\n",
       "      <th></th>\n",
       "      <th>Symbol</th>\n",
       "      <th>Series</th>\n",
       "      <th>Prev Close</th>\n",
       "      <th>Open Price</th>\n",
       "      <th>High Price</th>\n",
       "      <th>Low Price</th>\n",
       "      <th>Last Price</th>\n",
       "      <th>Close Price</th>\n",
       "      <th>Average Price</th>\n",
       "      <th>Total Traded Quantity</th>\n",
       "      <th>Turnover</th>\n",
       "      <th>No. of Trades</th>\n",
       "      <th>Deliverable Qty</th>\n",
       "      <th>% Dly Qt to Traded Qty</th>\n",
       "    </tr>\n",
       "    <tr>\n",
       "      <th>Date</th>\n",
       "      <th></th>\n",
       "      <th></th>\n",
       "      <th></th>\n",
       "      <th></th>\n",
       "      <th></th>\n",
       "      <th></th>\n",
       "      <th></th>\n",
       "      <th></th>\n",
       "      <th></th>\n",
       "      <th></th>\n",
       "      <th></th>\n",
       "      <th></th>\n",
       "      <th></th>\n",
       "      <th></th>\n",
       "    </tr>\n",
       "  </thead>\n",
       "  <tbody>\n",
       "    <tr>\n",
       "      <th>09-May-2018</th>\n",
       "      <td>TCS</td>\n",
       "      <td>EQ</td>\n",
       "      <td>3441.20</td>\n",
       "      <td>3440.20</td>\n",
       "      <td>3494.75</td>\n",
       "      <td>3440.2</td>\n",
       "      <td>3488.5</td>\n",
       "      <td>3489.30</td>\n",
       "      <td>3480.95</td>\n",
       "      <td>1307525</td>\n",
       "      <td>4.551423e+09</td>\n",
       "      <td>74986</td>\n",
       "      <td>754487</td>\n",
       "      <td>57.70</td>\n",
       "    </tr>\n",
       "    <tr>\n",
       "      <th>10-May-2018</th>\n",
       "      <td>TCS</td>\n",
       "      <td>EQ</td>\n",
       "      <td>3489.30</td>\n",
       "      <td>3502.95</td>\n",
       "      <td>3511.15</td>\n",
       "      <td>3440.2</td>\n",
       "      <td>3446.3</td>\n",
       "      <td>3451.25</td>\n",
       "      <td>3478.59</td>\n",
       "      <td>1929339</td>\n",
       "      <td>6.711381e+09</td>\n",
       "      <td>78782</td>\n",
       "      <td>1044165</td>\n",
       "      <td>54.12</td>\n",
       "    </tr>\n",
       "    <tr>\n",
       "      <th>11-May-2018</th>\n",
       "      <td>TCS</td>\n",
       "      <td>EQ</td>\n",
       "      <td>3451.25</td>\n",
       "      <td>3454.20</td>\n",
       "      <td>3485.00</td>\n",
       "      <td>3442.5</td>\n",
       "      <td>3461.0</td>\n",
       "      <td>3456.95</td>\n",
       "      <td>3461.07</td>\n",
       "      <td>1313938</td>\n",
       "      <td>4.547637e+09</td>\n",
       "      <td>44332</td>\n",
       "      <td>734225</td>\n",
       "      <td>55.88</td>\n",
       "    </tr>\n",
       "    <tr>\n",
       "      <th>14-May-2018</th>\n",
       "      <td>TCS</td>\n",
       "      <td>EQ</td>\n",
       "      <td>3456.95</td>\n",
       "      <td>3457.00</td>\n",
       "      <td>3471.00</td>\n",
       "      <td>3410.8</td>\n",
       "      <td>3440.0</td>\n",
       "      <td>3433.55</td>\n",
       "      <td>3427.81</td>\n",
       "      <td>1216947</td>\n",
       "      <td>4.171460e+09</td>\n",
       "      <td>67155</td>\n",
       "      <td>738191</td>\n",
       "      <td>60.66</td>\n",
       "    </tr>\n",
       "    <tr>\n",
       "      <th>15-May-2018</th>\n",
       "      <td>TCS</td>\n",
       "      <td>EQ</td>\n",
       "      <td>3433.55</td>\n",
       "      <td>3450.00</td>\n",
       "      <td>3495.80</td>\n",
       "      <td>3433.7</td>\n",
       "      <td>3487.0</td>\n",
       "      <td>3482.40</td>\n",
       "      <td>3477.97</td>\n",
       "      <td>976445</td>\n",
       "      <td>3.396047e+09</td>\n",
       "      <td>72769</td>\n",
       "      <td>426098</td>\n",
       "      <td>43.64</td>\n",
       "    </tr>\n",
       "  </tbody>\n",
       "</table>\n",
       "</div>"
      ],
      "text/plain": [
       "            Symbol Series  Prev Close  Open Price  High Price  Low Price  \\\n",
       "Date                                                                       \n",
       "09-May-2018    TCS     EQ     3441.20     3440.20     3494.75     3440.2   \n",
       "10-May-2018    TCS     EQ     3489.30     3502.95     3511.15     3440.2   \n",
       "11-May-2018    TCS     EQ     3451.25     3454.20     3485.00     3442.5   \n",
       "14-May-2018    TCS     EQ     3456.95     3457.00     3471.00     3410.8   \n",
       "15-May-2018    TCS     EQ     3433.55     3450.00     3495.80     3433.7   \n",
       "\n",
       "             Last Price  Close Price  Average Price  Total Traded Quantity  \\\n",
       "Date                                                                         \n",
       "09-May-2018      3488.5      3489.30        3480.95                1307525   \n",
       "10-May-2018      3446.3      3451.25        3478.59                1929339   \n",
       "11-May-2018      3461.0      3456.95        3461.07                1313938   \n",
       "14-May-2018      3440.0      3433.55        3427.81                1216947   \n",
       "15-May-2018      3487.0      3482.40        3477.97                 976445   \n",
       "\n",
       "                 Turnover  No. of Trades  Deliverable Qty  \\\n",
       "Date                                                        \n",
       "09-May-2018  4.551423e+09          74986           754487   \n",
       "10-May-2018  6.711381e+09          78782          1044165   \n",
       "11-May-2018  4.547637e+09          44332           734225   \n",
       "14-May-2018  4.171460e+09          67155           738191   \n",
       "15-May-2018  3.396047e+09          72769           426098   \n",
       "\n",
       "             % Dly Qt to Traded Qty  \n",
       "Date                                 \n",
       "09-May-2018                   57.70  \n",
       "10-May-2018                   54.12  \n",
       "11-May-2018                   55.88  \n",
       "14-May-2018                   60.66  \n",
       "15-May-2018                   43.64  "
      ]
     },
     "execution_count": 4,
     "metadata": {},
     "output_type": "execute_result"
    }
   ],
   "source": [
    "import pandas as pd\n",
    "data = pd.read_csv(\"tcs.csv\",index_col=2)\n",
    "data.head()"
   ]
  },
  {
   "cell_type": "code",
   "execution_count": 6,
   "metadata": {},
   "outputs": [],
   "source": [
    "data.index = pd.to_datetime(data.index)"
   ]
  },
  {
   "cell_type": "code",
   "execution_count": 10,
   "metadata": {},
   "outputs": [
    {
     "data": {
      "text/html": [
       "<iframe id=\"igraph\" scrolling=\"no\" style=\"border:none;\" seamless=\"seamless\" src=\"https://plot.ly/~pmbh/2.embed\" height=\"525px\" width=\"100%\"></iframe>"
      ],
      "text/plain": [
       "<plotly.tools.PlotlyDisplay object>"
      ]
     },
     "execution_count": 10,
     "metadata": {},
     "output_type": "execute_result"
    }
   ],
   "source": [
    "import plotly.plotly as ply\n",
    "import cufflinks as cf\n",
    "data.iplot(title=\"TCS data 2018\")"
   ]
  },
  {
   "cell_type": "code",
   "execution_count": 13,
   "metadata": {},
   "outputs": [
    {
     "data": {
      "text/plain": [
       "'https://plot.ly/~pmbh/4'"
      ]
     },
     "execution_count": 13,
     "metadata": {},
     "output_type": "execute_result"
    }
   ],
   "source": [
    "from plotly.plotly import plot_mpl\n",
    "from statsmodels.tsa.seasonal import seasonal_decompose\n",
    "result = seasonal_decompose(data['Open Price'], model='multiplicative')\n",
    "fig = result.plot()\n",
    "plot_mpl(fig)"
   ]
  },
  {
   "cell_type": "code",
   "execution_count": 14,
   "metadata": {},
   "outputs": [
    {
     "ename": "ModuleNotFoundError",
     "evalue": "No module named 'pyramid'",
     "output_type": "error",
     "traceback": [
      "\u001b[1;31m---------------------------------------------------------------------------\u001b[0m",
      "\u001b[1;31mModuleNotFoundError\u001b[0m                       Traceback (most recent call last)",
      "\u001b[1;32m<ipython-input-14-08716979c58a>\u001b[0m in \u001b[0;36m<module>\u001b[1;34m()\u001b[0m\n\u001b[1;32m----> 1\u001b[1;33m \u001b[1;32mfrom\u001b[0m \u001b[0mpyramid\u001b[0m\u001b[1;33m.\u001b[0m\u001b[0marima\u001b[0m \u001b[1;32mimport\u001b[0m \u001b[0mauto_arima\u001b[0m\u001b[1;33m\u001b[0m\u001b[0m\n\u001b[0m\u001b[0;32m      2\u001b[0m stepwise_model = auto_arima(data, start_p=1, start_q=1,\n\u001b[0;32m      3\u001b[0m                            \u001b[0mmax_p\u001b[0m\u001b[1;33m=\u001b[0m\u001b[1;36m3\u001b[0m\u001b[1;33m,\u001b[0m \u001b[0mmax_q\u001b[0m\u001b[1;33m=\u001b[0m\u001b[1;36m3\u001b[0m\u001b[1;33m,\u001b[0m \u001b[0mm\u001b[0m\u001b[1;33m=\u001b[0m\u001b[1;36m12\u001b[0m\u001b[1;33m,\u001b[0m\u001b[1;33m\u001b[0m\u001b[0m\n\u001b[0;32m      4\u001b[0m                            \u001b[0mstart_P\u001b[0m\u001b[1;33m=\u001b[0m\u001b[1;36m0\u001b[0m\u001b[1;33m,\u001b[0m \u001b[0mseasonal\u001b[0m\u001b[1;33m=\u001b[0m\u001b[1;32mTrue\u001b[0m\u001b[1;33m,\u001b[0m\u001b[1;33m\u001b[0m\u001b[0m\n\u001b[0;32m      5\u001b[0m                            \u001b[0md\u001b[0m\u001b[1;33m=\u001b[0m\u001b[1;36m1\u001b[0m\u001b[1;33m,\u001b[0m \u001b[0mD\u001b[0m\u001b[1;33m=\u001b[0m\u001b[1;36m1\u001b[0m\u001b[1;33m,\u001b[0m \u001b[0mtrace\u001b[0m\u001b[1;33m=\u001b[0m\u001b[1;32mTrue\u001b[0m\u001b[1;33m,\u001b[0m\u001b[1;33m\u001b[0m\u001b[0m\n",
      "\u001b[1;31mModuleNotFoundError\u001b[0m: No module named 'pyramid'"
     ]
    }
   ],
   "source": [
    "from pyramid.arima import auto_arima\n",
    "stepwise_model = auto_arima(data, start_p=1, start_q=1,\n",
    "                           max_p=3, max_q=3, m=12,\n",
    "                           start_P=0, seasonal=True,\n",
    "                           d=1, D=1, trace=True,\n",
    "                           error_action='ignore',  \n",
    "                           suppress_warnings=True, \n",
    "                           stepwise=True)\n",
    "print(stepwise_model.aic())"
   ]
  }
 ],
 "metadata": {
  "kernelspec": {
   "display_name": "Python 3",
   "language": "python",
   "name": "python3"
  },
  "language_info": {
   "codemirror_mode": {
    "name": "ipython",
    "version": 3
   },
   "file_extension": ".py",
   "mimetype": "text/x-python",
   "name": "python",
   "nbconvert_exporter": "python",
   "pygments_lexer": "ipython3",
   "version": "3.6.5"
  }
 },
 "nbformat": 4,
 "nbformat_minor": 2
}
